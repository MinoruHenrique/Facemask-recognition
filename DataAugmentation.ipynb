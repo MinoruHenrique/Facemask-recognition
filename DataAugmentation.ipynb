{
 "cells": [
  {
   "cell_type": "markdown",
   "metadata": {},
   "source": [
    "# Shuffling"
   ]
  },
  {
   "cell_type": "code",
   "execution_count": 11,
   "metadata": {},
   "outputs": [],
   "source": [
    "import cv2\n",
    "import glob\n",
    "import numpy as np\n",
    "data_folder=\"C:/Users/User/Developer/Projects/mask/data_resized/\"\n",
    "X=np.zeros((2000,150,150,3))\n",
    "y=np.zeros((2000,1))\n",
    "y[:1000]=1"
   ]
  },
  {
   "cell_type": "code",
   "execution_count": 12,
   "metadata": {},
   "outputs": [
    {
     "data": {
      "text/plain": [
       "2000"
      ]
     },
     "execution_count": 12,
     "metadata": {},
     "output_type": "execute_result"
    }
   ],
   "source": [
    "i=0\n",
    "for img in glob.glob(data_folder+\"mask_resized/*.jpg\"):\n",
    "    image=cv2.imread(img)\n",
    "    X[i]=image\n",
    "    i+=1\n",
    "for img in glob.glob(data_folder+\"nomask_resized/*.jpg\"):\n",
    "    image=cv2.imread(img)\n",
    "    X[i]=image\n",
    "    i+=1\n",
    "    \n",
    "cv2.destroyAllWindows()\n",
    "i"
   ]
  },
  {
   "cell_type": "code",
   "execution_count": 13,
   "metadata": {},
   "outputs": [],
   "source": [
    "array=np.arange(2000)\n",
    "rng = np.random.default_rng(seed=51)\n",
    "rng.shuffle(array)\n",
    "\n",
    "X_shuffle=X[array,:,:]\n",
    "y_shuffle=y[array,:]"
   ]
  },
  {
   "cell_type": "markdown",
   "metadata": {},
   "source": [
    "# Split entre training y test set"
   ]
  },
  {
   "cell_type": "code",
   "execution_count": 14,
   "metadata": {},
   "outputs": [],
   "source": [
    "from sklearn.model_selection import train_test_split\n",
    "X_train, X_test, y_train, y_test = train_test_split(\n",
    "    X_shuffle, y_shuffle, test_size=0.2, random_state=51)"
   ]
  },
  {
   "cell_type": "code",
   "execution_count": 15,
   "metadata": {},
   "outputs": [
    {
     "data": {
      "text/plain": [
       "1.0"
      ]
     },
     "execution_count": 15,
     "metadata": {},
     "output_type": "execute_result"
    }
   ],
   "source": [
    "train_mask_idx=np.where(y_train==1)\n",
    "train_nomask_idx=np.where(y_train==0)\n",
    "\n",
    "test_mask_idx=np.where(y_test==1)\n",
    "test_nomask_idx=np.where(y_test==0)\n",
    "y[0,0]"
   ]
  },
  {
   "cell_type": "code",
   "execution_count": 16,
   "metadata": {},
   "outputs": [],
   "source": [
    "export_folder=\"./split_data/train/\"\n",
    "i=0\n",
    "j=0\n",
    "k=0\n",
    "for img in X_train:\n",
    "    if(y_train[i,0]==1):\n",
    "        cv2.imwrite(export_folder+\"mask/image%06i.jpg\"%j,img)\n",
    "        j+=1\n",
    "    else:\n",
    "        cv2.imwrite(export_folder+\"nomask/image%06i.jpg\"%k,img)\n",
    "        k+=1\n",
    "    i+=1\n",
    "    \n",
    "cv2.destroyAllWindows()"
   ]
  },
  {
   "cell_type": "code",
   "execution_count": 20,
   "metadata": {},
   "outputs": [],
   "source": [
    "export_folder=\"./split_data/test/\"\n",
    "i=0\n",
    "j=0\n",
    "k=0\n",
    "for img in X_test:\n",
    "    if(y_test[i,0]==1):\n",
    "        cv2.imwrite(export_folder+\"mask/image%06i.jpg\"%j,img)\n",
    "        j+=1\n",
    "    else:\n",
    "        cv2.imwrite(export_folder+\"nomask/image%06i.jpg\"%k,img)\n",
    "        k+=1\n",
    "    i+=1\n",
    "    \n",
    "cv2.destroyAllWindows()"
   ]
  },
  {
   "cell_type": "markdown",
   "metadata": {},
   "source": [
    "# Data augmentation aplicado al training set"
   ]
  },
  {
   "cell_type": "code",
   "execution_count": 21,
   "metadata": {},
   "outputs": [],
   "source": [
    "from keras.preprocessing.image import ImageDataGenerator,load_img,img_to_array\n",
    "train_datagen=ImageDataGenerator(rescale=1./255,\n",
    "                                 zoom_range=0.4,\n",
    "                                 rotation_range=50,\n",
    "                                 width_shift_range=0.3,\n",
    "                                 height_shift_range=0.3,\n",
    "                                 shear_range=0.2,\n",
    "                                 horizontal_flip=True,\n",
    "                                 fill_mode='nearest')\n",
    "test_datagen=ImageDataGenerator(rescale=1./255)\n"
   ]
  },
  {
   "cell_type": "code",
   "execution_count": 34,
   "metadata": {},
   "outputs": [],
   "source": [
    "data_folder=\"./split_data/train/\"\n",
    "\n",
    "for img in glob.glob(data_folder+\"mask/*.jpg\"):\n",
    "    image=load_img(img)\n",
    "    image=img_to_array(image)\n",
    "    image=image.reshape((1,)+image.shape)\n",
    "    \n",
    "    i=0\n",
    "    for batch in train_datagen.flow(image,batch_size=1,save_to_dir=\"./augmented_data/train/mask/\",save_format=\".jpg\"):\n",
    "        i+=1\n",
    "        if(i>3):\n",
    "            break"
   ]
  },
  {
   "cell_type": "code",
   "execution_count": 35,
   "metadata": {},
   "outputs": [],
   "source": [
    "data_folder=\"./split_data/train/\"\n",
    "\n",
    "for img in glob.glob(data_folder+\"nomask/*.jpg\"):\n",
    "    image=load_img(img)\n",
    "    image=img_to_array(image)\n",
    "    image=image.reshape((1,)+image.shape)\n",
    "    \n",
    "    i=0\n",
    "    for batch in train_datagen.flow(image,batch_size=1,save_to_dir=\"./augmented_data/train/nomask/\",save_format=\".jpg\"):\n",
    "        i+=1\n",
    "        if(i>3):\n",
    "            break"
   ]
  },
  {
   "cell_type": "code",
   "execution_count": null,
   "metadata": {},
   "outputs": [],
   "source": []
  }
 ],
 "metadata": {
  "kernelspec": {
   "display_name": "Python 3",
   "language": "python",
   "name": "python3"
  },
  "language_info": {
   "codemirror_mode": {
    "name": "ipython",
    "version": 3
   },
   "file_extension": ".py",
   "mimetype": "text/x-python",
   "name": "python",
   "nbconvert_exporter": "python",
   "pygments_lexer": "ipython3",
   "version": "3.7.6"
  }
 },
 "nbformat": 4,
 "nbformat_minor": 4
}
