{
 "cells": [
  {
   "cell_type": "markdown",
   "metadata": {},
   "source": [
    "**Primera parte del procesamiento** \n",
    "\n",
    "Conversión del formato de imagen original a .jpg con 150x150 de tamaño."
   ]
  },
  {
   "cell_type": "code",
   "execution_count": 2,
   "metadata": {},
   "outputs": [],
   "source": [
    "import cv2\n",
    "import glob\n",
    "import os"
   ]
  },
  {
   "cell_type": "code",
   "execution_count": 4,
   "metadata": {},
   "outputs": [],
   "source": [
    "input_folder=\"E:\\Datasets\\Facemask\\Mask\"\n",
    "i=0\n",
    "for img in glob.glob(input_folder+\"/*.jpg\"):\n",
    "    image=cv2.imread(img)\n",
    "    imgResized=cv2.resize(image,(150,150))\n",
    "    cv2.imwrite(\"data_resized/mask_resized/image%06i.jpg\"%i,imgResized)\n",
    "    i+=1\n",
    "    \n",
    "cv2.destroyAllWindows()"
   ]
  },
  {
   "cell_type": "code",
   "execution_count": 5,
   "metadata": {},
   "outputs": [],
   "source": [
    "input_folder=\"E:/Datasets/Facemask/Nomask/\"\n",
    "i=0\n",
    "for img in glob.glob(input_folder+\"/*.png\"):\n",
    "    image=cv2.imread(img)\n",
    "    imgResized=cv2.resize(image,(150,150))\n",
    "    cv2.imwrite(\"data_resized/nomask_resized/image%06i.jpg\"%i,imgResized)\n",
    "    i+=1\n",
    "    \n",
    "cv2.destroyAllWindows()"
   ]
  }
 ],
 "metadata": {
  "kernelspec": {
   "display_name": "Python 3",
   "language": "python",
   "name": "python3"
  },
  "language_info": {
   "codemirror_mode": {
    "name": "ipython",
    "version": 3
   },
   "file_extension": ".py",
   "mimetype": "text/x-python",
   "name": "python",
   "nbconvert_exporter": "python",
   "pygments_lexer": "ipython3",
   "version": "3.7.9"
  }
 },
 "nbformat": 4,
 "nbformat_minor": 4
}
